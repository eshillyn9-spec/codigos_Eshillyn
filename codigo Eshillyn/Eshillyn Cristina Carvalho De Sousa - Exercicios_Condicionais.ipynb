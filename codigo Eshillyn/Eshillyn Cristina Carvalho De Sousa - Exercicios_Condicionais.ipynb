{
 "cells": [
  {
   "cell_type": "markdown",
   "id": "633160a3",
   "metadata": {},
   "source": [
    "### 📝Lista de Exercícios: Condicionais IF/ELSE"
   ]
  },
  {
   "cell_type": "markdown",
   "id": "605d2a7e",
   "metadata": {},
   "source": [
    "Exercício 1 - Maioridade 🔞\n",
    "\n",
    "Crie um programa que pergunta a idade do usuário e diz se ele é maior ou menor de idade."
   ]
  },
  {
   "cell_type": "code",
   "execution_count": null,
   "id": "93ea230f",
   "metadata": {},
   "outputs": [
    {
     "name": "stdout",
     "output_type": "stream",
     "text": [
      "voce é menor de idade\n"
     ]
    }
   ],
   "source": [
    "idade = int(input(\"Quantos anos você tem? \"))\n",
    "\n",
    "# Complete o código aqui\n",
    "if idade >= 18:\n",
    "    print(\"voce é maior de idade\")\n",
    "else:\n",
    "    print(\"voce é menor de idade\")    \n"
   ]
  },
  {
   "cell_type": "markdown",
   "id": "6e9528f5",
   "metadata": {},
   "source": [
    "Exercício 2 - Aprovação na Prova 🧠\n",
    "\n",
    "Faça um programa que pergunte a nota de um aluno (0 a 10) e diz se ele foi aprovado(nota >= 5) ou reprovado (nota <5)."
   ]
  },
  {
   "cell_type": "code",
   "execution_count": 5,
   "id": "4a9f8f8b",
   "metadata": {},
   "outputs": [
    {
     "name": "stdout",
     "output_type": "stream",
     "text": [
      "voce foi aprovado\n"
     ]
    }
   ],
   "source": [
    "nota = float(input(\"Informe a sua nota de (0 a 10)\"))\n",
    "\n",
    "# Complete o código aqui\n",
    "if nota >= 5:\n",
    "    print(\"voce foi aprovado\")\n",
    "else:\n",
    "    print(\"voce foi reprovado\")    "
   ]
  },
  {
   "cell_type": "markdown",
   "id": "9f8e9b92",
   "metadata": {},
   "source": [
    "Exercicio 3 - CNH 🚘🚙\n",
    "\n",
    " 1º - Peça ao usuário que digite a idade dele.\n",
    "\n",
    " 2º - Peça pra ele dizer se foi aprovado ou reprovado no curso de cnh.\n",
    "\n",
    " 3º - Use if e else para verificar se ele tem 18 anos ou mais e se foi aprovado.\n",
    "\n",
    " 4º - Se as condições do passo 3 estiverem certas, print(\"pode dirigir\").\n",
    " \n",
    " 5º - Se não print(\"vai andar a pé\")"
   ]
  },
  {
   "cell_type": "code",
   "execution_count": 20,
   "id": "bee9f043",
   "metadata": {},
   "outputs": [
    {
     "name": "stdout",
     "output_type": "stream",
     "text": [
      "pode dirigir\n"
     ]
    }
   ],
   "source": [
    "### Seu código aqui\n",
    "idade = int(input(\"qual a sua idade?\"))\n",
    "cnh = input(\"voce foi aprovado no curso de cnh?\")\n",
    "if idade >= 18 and cnh == \"sim\":     \n",
    "    print(\"pode dirigir\")\n",
    "else:\n",
    "    print(\"vai andar a pé\")    "
   ]
  },
  {
   "cell_type": "markdown",
   "id": "e9c60d12",
   "metadata": {},
   "source": [
    "Exercício 4 - Calculadora de Desconto. 💵 🤑\n",
    "\n",
    "Uma loja dá 10% de desconto para compras acima de R$ 100,00. Faça um programa que:\n",
    "\n",
    "1º - Pergunta o valor da compra.\n",
    "\n",
    "2º - Calcula o valor final com desconto (se aplicável).\n",
    "\n",
    "3º - Mostra o valor a pagar."
   ]
  },
  {
   "cell_type": "code",
   "execution_count": 23,
   "id": "5edc8855",
   "metadata": {},
   "outputs": [
    {
     "name": "stdout",
     "output_type": "stream",
     "text": [
      "sua compra pode ser realizada com 10% de desconto\n"
     ]
    }
   ],
   "source": [
    "### Seu código aqui\n",
    "compra = float(input(\"qual o valor da sua compra?\"))\n",
    "desconto = compra  * 0.10\n",
    "valor_final = compra - desconto\n",
    "if compra >=100:\n",
    "    print(\"sua compra pode ser realizada com 10% de desconto\")\n",
    "else:\n",
    "    print(\"infelismente sua compra nao pode ser realizada com desconto,compre mais de 100 reais na loga para ter o beneficio\")\n",
    "\n"
   ]
  },
  {
   "cell_type": "markdown",
   "id": "ec96b43c",
   "metadata": {},
   "source": [
    "Exercício 5 - Classificação de Notas 🧑‍🎓\n",
    "\n",
    "Pergunte a nota de um aluno e dependendo da nota que ele informar, o classifique de acordo com as regras abaixo:\n",
    "\n",
    "Classifique a nota do aluno:\n",
    "\n",
    "- 9 até 10: \"Excelente\"\n",
    "\n",
    "- 7 até 8.9: \"Bom\"\n",
    "\n",
    "- 5 até 6.9: \"Regular\"\n",
    "\n",
    "- 0 até 4.9: \"Reprovado\"\n",
    "\n",
    "mostre para o aluno a classificação dele através de um print, exemplo print(\"Excelente\")."
   ]
  },
  {
   "cell_type": "code",
   "execution_count": 36,
   "id": "465c6812",
   "metadata": {},
   "outputs": [
    {
     "name": "stdout",
     "output_type": "stream",
     "text": [
      "regular\n"
     ]
    }
   ],
   "source": [
    "nota = float(input(\"qual foi sua nota?\"))\n",
    "if nota >= 9 and nota <=10:\n",
    "    print(\"exelente\")\n",
    "elif nota >=7 and nota <= 8.9:\n",
    "    print(\"bom\") \n",
    "elif nota >=5 and nota <=6.9:\n",
    "    print(\"regular\")\n",
    "else:\n",
    "    print(\"reprovado\")            "
   ]
  },
  {
   "cell_type": "markdown",
   "id": "251b0fa7",
   "metadata": {},
   "source": [
    "Exercício 6 - Acesso ao Sistema 🔑\n",
    "\n",
    "Crie um login simples:\n",
    "\n",
    "- usuario_correto = \"admin\"\n",
    "\n",
    "- senha_correta = \"1234\"\n",
    "\n",
    "**Peça para o usuário digitar primeiro o login e depois a senha, caso login e senha estejam corretos programa deve mostrar \"Acesso permitido\" se não \"Acesso negado\"**\n"
   ]
  },
  {
   "cell_type": "code",
   "execution_count": 37,
   "id": "7fcf16db",
   "metadata": {},
   "outputs": [
    {
     "name": "stdout",
     "output_type": "stream",
     "text": [
      "acesso negado\n"
     ]
    }
   ],
   "source": [
    "usuario = input(\"qual o nome de usuario?\")\n",
    "senha = int(input(\"qual é a senha?\"))\n",
    "if usuario == \"caneca\" and senha == 12345:\n",
    "     print(\"acesso permitido\")\n",
    "else:\n",
    "     print(\"acesso negado\")     \n",
    "\n"
   ]
  },
  {
   "cell_type": "markdown",
   "id": "46c27406",
   "metadata": {},
   "source": [
    "Exercício 7 - Maior Número 📉\n",
    "\n",
    "Peça 3 números e mostre qual é o maior deles."
   ]
  },
  {
   "cell_type": "code",
   "execution_count": 39,
   "id": "916439ff",
   "metadata": {},
   "outputs": [
    {
     "name": "stdout",
     "output_type": "stream",
     "text": [
      "o maoir numero é o 3.0\n"
     ]
    }
   ],
   "source": [
    "n1 = float(input(\"fale um seu primeiro numero\"))\n",
    "n2 = float(input(\"fale seu segundo numero\"))\n",
    "n3 = float(input(\"fale seu terceiro numero\"))\n",
    "print(f\"o maoir numero é o {n3}\")"
   ]
  },
  {
   "cell_type": "markdown",
   "id": "984fe0fe",
   "metadata": {},
   "source": [
    "Exercício 8 - Dia da Semana\n",
    "Peça um número de 1 a 7 e mostre o dia da semana correspondente: 📅\n",
    "\n",
    "- 1: Domingo\n",
    "\n",
    "- 2: Segunda\n",
    "\n",
    "- ... até 7: Sábado"
   ]
  },
  {
   "cell_type": "code",
   "execution_count": 43,
   "id": "f34c6fbf",
   "metadata": {},
   "outputs": [
    {
     "name": "stdout",
     "output_type": "stream",
     "text": [
      "segunda\n"
     ]
    }
   ],
   "source": [
    "semana = int(input(\"fale um numero de 1 a 7 e descubra que dia da semana é\"))\n",
    "if semana == 1:\n",
    "    print(\"domingo\")\n",
    "elif semana == 2:\n",
    "    print(\"segunda\")\n",
    "elif semana == 3:\n",
    "    print(\"terça\")\n",
    "elif semana == 4:\n",
    "    print(\"quarta\")\n",
    "elif semana == 5:\n",
    "    print(\"quinta\")\n",
    "elif semana == 6:\n",
    "    print(\"sexta\")                   \n",
    "else:\n",
    "    print(\"sabado\") \n"
   ]
  },
  {
   "cell_type": "markdown",
   "id": "f1f760b7",
   "metadata": {},
   "source": [
    "Exercício 9 - Calculadora Simples 📏📐\n",
    "\n",
    "- Faça uma calculadora que:\n",
    "\n",
    "- Pede dois números\n",
    "\n",
    "- Pede a operação (+, -, *, /)\n",
    "\n",
    "- Dependendo da operação mostre o resultado.\n",
    "\n"
   ]
  },
  {
   "cell_type": "code",
   "execution_count": null,
   "id": "95c6ce03",
   "metadata": {},
   "outputs": [
    {
     "name": "stdout",
     "output_type": "stream",
     "text": [
      "o resultado de 8.0*9.0é calculadora1operaçaocalculadora2\n"
     ]
    }
   ],
   "source": [
    "calculadora1 = float(input(\"fale um numero\"))\n",
    "calculadora2 = float(input(\"fale outro numero\"))\n",
    "operaçao = input(\"escolhe uam operaçao entre +,-,*,/\")\n",
    "if operaçao == \"+\":\n",
    "    print(f\"o resultado de {calculadora1}{operaçao}{calculadora2} é\")\n",
    "elif operaçao ==\"-\" :\n",
    "    print(f\"o resultado de {calculadora1}{operaçao}{calculadora2} é\")\n",
    "elif operaçao == \"*\":\n",
    "    print(f\"o resultado de {calculadora1}{operaçao}{calculadora2} é\")  \n",
    "else:\n",
    "    print(f\"o resultado de {calculadora1}{operaçao}{calculadora2} é\")                      "
   ]
  },
  {
   "cell_type": "markdown",
   "id": "f39f6b73",
   "metadata": {},
   "source": [
    "Exercício 10 - Sistema de Multas 🚙🚘🧾\n",
    "\n",
    "\n",
    "- Velocidade máxima: 80 km/h 🚫\n",
    "\n",
    "- Até 80: \"Sem multa\"\n",
    "\n",
    "- 81-100: \"Multa leve\"\n",
    "\n",
    "- Acima de 100: \"Multa grave\""
   ]
  },
  {
   "cell_type": "code",
   "execution_count": 50,
   "id": "20fdc977",
   "metadata": {},
   "outputs": [
    {
     "name": "stdout",
     "output_type": "stream",
     "text": [
      "multa leve\n"
     ]
    }
   ],
   "source": [
    "velocidade = int(input(\"fale a sua velocidade em km/h\"))\n",
    "if velocidade <=80:\n",
    "    print(\"sem multa\")\n",
    "elif velocidade >= 81 and velocidade <=100:\n",
    "    print(\"multa leve\")\n",
    "else:\n",
    "    print(\"multa grave\")    "
   ]
  }
 ],
 "metadata": {
  "kernelspec": {
   "display_name": "Python 3",
   "language": "python",
   "name": "python3"
  },
  "language_info": {
   "codemirror_mode": {
    "name": "ipython",
    "version": 3
   },
   "file_extension": ".py",
   "mimetype": "text/x-python",
   "name": "python",
   "nbconvert_exporter": "python",
   "pygments_lexer": "ipython3",
   "version": "3.13.2"
  }
 },
 "nbformat": 4,
 "nbformat_minor": 5
}
