{
 "cells": [
  {
   "cell_type": "markdown",
   "id": "8e7a3a05",
   "metadata": {},
   "source": [
    "### 📝 Lista de Exercícios: Strings + Condicionais\n",
    "\n",
    "# Métodos\n",
    "\n",
    "| Método | Descrição | Exemplo | Resultado |\n",
    "|--------|-----------|---------|-----------|\n",
    "| **`upper()`** | Converte toda a string para maiúsculas | `\"python\".upper()` | `'PYTHON'` |\n",
    "| **`lower()`** | Converte toda a string para minúsculas | `\"PYTHON\".lower()` | `'python'` |\n",
    "| **`capitalize()`** | Primeira letra maiúscula, resto minúsculas | `\"python\".capitalize()` | `'Python'` |\n",
    "| **`title()`** | Primeira letra de cada palavra maiúscula | `\"hello world\".title()` | `'Hello World'` |\n",
    "| **`strip()`** | Remove espaços em branco no início e fim | `\"  hello  \".strip()` | `'hello'` |\n",
    "| **`lstrip()`** | Remove espaços apenas no início | `\"  hello  \".lstrip()` | `'hello  '` |\n",
    "| **`rstrip()`** | Remove espaços apenas no final | `\"  hello  \".rstrip()` | `'  hello'` |\n",
    "| **`replace(old, new)`** | Substitui parte da string | `\"hello\".replace(\"l\", \"x\")` | `'hexxo'` |\n",
    "| **`split(sep)`** | Divide a string em uma lista | `\"a,b,c\".split(\",\")` | `['a', 'b', 'c']` |\n",
    "| **`join(iterable)`** | Junta elementos com a string como separador | `\",\".join(['a','b','c'])` | `'a,b,c'` |\n",
    "| **`find(sub)`** | Retorna índice da primeira ocorrência | `\"hello\".find(\"l\")` | `2` |\n",
    "| **`rfind(sub)`** | Retorna índice da última ocorrência | `\"hello\".rfind(\"l\")` | `3` |\n",
    "| **`index(sub)`** | Como find(), mas levanta erro se não encontrar | `\"hello\".index(\"l\")` | `2` |\n",
    "| **`count(sub)`** | Conta ocorrências de substring | `\"hello\".count(\"l\")` | `2` |\n",
    "| **`startswith(prefix)`** | Verifica se começa com prefixo | `\"hello\".startswith(\"he\")` | `True` |\n",
    "| **`endswith(suffix)`** | Verifica se termina com sufixo | `\"hello\".endswith(\"lo\")` | `True` |\n",
    "| **`isalpha()`** | Verifica se todos são caracteres alfabéticos | `\"hello\".isalpha()` | `True` |\n",
    "| **`isdigit()`** | Verifica se todos são dígitos | `\"123\".isdigit()` | `True` |\n",
    "| **`isalnum()`** | Verifica se são alfanuméricos | `\"abc123\".isalnum()` | `True` |\n",
    "| **`isspace()`** | Verifica se são espaços em branco | `\"   \".isspace()` | `True` |\n",
    "| **`islower()`** | Verifica se todas as letras são minúsculas | `\"hello\".islower()` | `True` |\n",
    "| **`isupper()`** | Verifica se todas as letras são maiúsculas | `\"HELLO\".isupper()` | `True` |\n"
   ]
  },
  {
   "cell_type": "markdown",
   "id": "5d1bbbdb",
   "metadata": {},
   "source": [
    "💻 Exercício 1 - Verificador de E-mail Simples\n",
    "\n",
    "Verifique se um e-mail contém o símbolo \"@\" e termina com \".com\""
   ]
  },
  {
   "cell_type": "code",
   "execution_count": 4,
   "id": "681b656c",
   "metadata": {},
   "outputs": [
    {
     "name": "stdout",
     "output_type": "stream",
     "text": [
      "Email valido\n"
     ]
    }
   ],
   "source": [
    "email = input(\"Digite seu e-mail: \")\n",
    "# Complete o código aqui\n",
    "if \"@\" in email and email.endswith (\".com\"):\n",
    "   print(\"Email valido\")\n",
    "else:\n",
    "   print(\"email invalido\")  "
   ]
  },
  {
   "cell_type": "markdown",
   "id": "5579e0b0",
   "metadata": {},
   "source": [
    "🔤 Exercício 2 - Maiúscula ou Minúscula?\n",
    "\n",
    "Peça uma letra e diga se ela é maiúscula ou minúscula."
   ]
  },
  {
   "cell_type": "code",
   "execution_count": 6,
   "id": "eba3ca5a",
   "metadata": {},
   "outputs": [
    {
     "name": "stdout",
     "output_type": "stream",
     "text": [
      "a letra é minuscula\n"
     ]
    }
   ],
   "source": [
    "letra = input(\"fale uma letra,maiuscula ou minuscula\")\n",
    "if letra.isupper():\n",
    "    print(\"a letra é MAIÚSCULA\")\n",
    "else:\n",
    "    print(\"a letra é minuscula\")    "
   ]
  },
  {
   "cell_type": "markdown",
   "id": "943c69eb",
   "metadata": {},
   "source": [
    "🥷 Exercício 3 - Verificador de Senha Forte\n",
    "\n",
    "Peça para o usuário criar uma senha e verifique se a senha criada é forte.\n",
    "\n",
    "\n",
    "Uma senha é forte se:\n",
    "\n",
    "- Tem pelo menos 8 caracteres\n",
    "\n",
    "- Contém pelo menos um número\n",
    "\n",
    "- Contém pelo menos uma letra maiúscula"
   ]
  },
  {
   "cell_type": "code",
   "execution_count": 9,
   "id": "01e44abe",
   "metadata": {},
   "outputs": [
    {
     "name": "stdout",
     "output_type": "stream",
     "text": [
      "senha forte\n"
     ]
    }
   ],
   "source": [
    "senha = input(\"digite uma senha forte que tenha pelomenos 8 caracteres,que tenha pelomenosa 1 numero e que tenha pelomenos 1 letra maiuscula\")\n",
    "if len(senha) >=8 and senha.isalnum() and senha.isupper():\n",
    "    print(\"senha forte\")\n",
    "else:\n",
    "    print(\"senha fraca\")    "
   ]
  },
  {
   "cell_type": "markdown",
   "id": "f1ced8d1",
   "metadata": {},
   "source": [
    "🧾 Exercício 4 - Inicial do Nome\n",
    "\n",
    "Peça o nome completo e diga se a primeira letra é vogal ou consoante."
   ]
  },
  {
   "cell_type": "code",
   "execution_count": 10,
   "id": "a64c050f",
   "metadata": {},
   "outputs": [
    {
     "name": "stdout",
     "output_type": "stream",
     "text": [
      "a primeira letra é uma consoante\n"
     ]
    }
   ],
   "source": [
    "nome = input(\"digite seu nome\")\n",
    "if nome[0] == \"a\":\n",
    "   print(\"a primeira letra é uma vogal\")\n",
    "elif nome[0] == \"e\":\n",
    "   print(\"a primeira letra é uma vogal\")\n",
    "elif nome[0] == \"i\":\n",
    "   print(\"a primeira letra é uma vogal\")\n",
    "elif nome[0] == \"o\":\n",
    "   print(\"a primeira letra é uma vogal\")\n",
    "elif nome[0] == \"u\":\n",
    "   print(\"a primeira letra é uma vogal\")      \n",
    "else:\n",
    "   print(\"a primeira letra é uma consoante\")   "
   ]
  },
  {
   "cell_type": "markdown",
   "id": "6d862740",
   "metadata": {},
   "source": [
    "😒 Exercício 5 - Comparador de Strings\n",
    "\n",
    "Peça duas palavras e diga se são iguais ou diferentes."
   ]
  },
  {
   "cell_type": "code",
   "execution_count": 13,
   "id": "314aec0a",
   "metadata": {},
   "outputs": [
    {
     "name": "stdout",
     "output_type": "stream",
     "text": [
      "as palavras sao iguais\n"
     ]
    }
   ],
   "source": [
    "palavra_1 = input(\"diga uma palavra\")\n",
    "palavra_2 = input(\"diga uma segunda palavra\")\n",
    "if palavra_1 == palavra_2:\n",
    "    print(\"as palavras sao iguais\")\n",
    "else:\n",
    "    print(\"as palavras sao diferentes\")    "
   ]
  },
  {
   "cell_type": "markdown",
   "id": "0563de29",
   "metadata": {},
   "source": [
    "🏟️ Exercício 6 - Verificador de CEP\n",
    "\n",
    "Um CEP válido deve ter exatamente 8 dígitos numéricos."
   ]
  },
  {
   "cell_type": "code",
   "execution_count": 26,
   "id": "d3b541d0",
   "metadata": {},
   "outputs": [
    {
     "name": "stdout",
     "output_type": "stream",
     "text": [
      "CEP valido\n"
     ]
    }
   ],
   "source": [
    "cep = len(input(\"digite seu CEP\"))\n",
    "if cep == 8:\n",
    "    print(\"CEP valido\")\n",
    "else:\n",
    "    print(\"CEP invalido\")    "
   ]
  },
  {
   "cell_type": "markdown",
   "id": "e6162561",
   "metadata": {},
   "source": [
    "🧾 Exercício 7 - Iniciais Iguais\n",
    "\n",
    "Peça duas palavras e verifique se começam com a mesma letra.\n"
   ]
  },
  {
   "cell_type": "code",
   "execution_count": 20,
   "id": "b49ac0b0",
   "metadata": {},
   "outputs": [
    {
     "name": "stdout",
     "output_type": "stream",
     "text": [
      "as duas palavras começam com a mesma letra\n"
     ]
    }
   ],
   "source": [
    "palavra_1 = input(\"digite uma palvra\")\n",
    "palavra_2 = input(\"digite outra palavra\")\n",
    "if palavra_1[0] == palavra_2[0]:\n",
    "    print(\"as duas palavras começam com a mesma letra\")\n",
    "else:\n",
    "    print(\"as primeiras letras sao diferentes\")    "
   ]
  },
  {
   "cell_type": "markdown",
   "id": "42ec22e4",
   "metadata": {},
   "source": [
    "🔤 Exercício 8 - Termina com Vogal\n",
    "\n",
    "Peça uma palavra ao usuário e diga se termina com vogal."
   ]
  },
  {
   "cell_type": "code",
   "execution_count": 40,
   "id": "015ea656",
   "metadata": {},
   "outputs": [
    {
     "name": "stdout",
     "output_type": "stream",
     "text": [
      "essa palavra termina com consoante\n"
     ]
    }
   ],
   "source": [
    "palavra = input(\"digite uma palavra\")\n",
    "if palavra[-1] == \"a\":\n",
    "   print(\"a palavra termina com vogal\")\n",
    "elif palavra[-1] == \"e\":\n",
    "   print(\"a palavra termina com vogal\")\n",
    "elif palavra[-1] == \"i\":\n",
    "   print(\"a palavra termina com vogal\")\n",
    "elif palavra[-1] == \"o\":\n",
    "   print(\"a palavra termina com vogal\")\n",
    "elif palavra[-1] == \"u\":\n",
    "   print(\"a palavra termina com vogal\")\n",
    "else:    \n",
    "   print(\"essa palavra termina com consoante\")          "
   ]
  },
  {
   "cell_type": "markdown",
   "id": "b1ed319e",
   "metadata": {},
   "source": [
    "🤖 Exercício 9 - Verificador de CPF Simples\n",
    "\n",
    "Verifique se um CPF tem 11 dígitos numéricos."
   ]
  },
  {
   "cell_type": "code",
   "execution_count": 29,
   "id": "26966137",
   "metadata": {},
   "outputs": [
    {
     "name": "stdout",
     "output_type": "stream",
     "text": [
      "CPF invalido\n"
     ]
    }
   ],
   "source": [
    "cpf = len(input(\"digite seu CPF\"))\n",
    "if cpf == 11:\n",
    "    print(\"CPF valido\")\n",
    "else:\n",
    "    print(\"CPF invalido\")    "
   ]
  },
  {
   "cell_type": "markdown",
   "id": "cf0c7496",
   "metadata": {},
   "source": [
    "💵 Exercicio 10 - Conversor de Moeda\n",
    "\n",
    "Converta Real para Dólar (use taxa fixa)."
   ]
  },
  {
   "cell_type": "code",
   "execution_count": null,
   "id": "6e3a618f",
   "metadata": {},
   "outputs": [
    {
     "name": "stdout",
     "output_type": "stream",
     "text": [
      "dividindo 25.44 com 5.44 obtemos 4.676470588235294 \n"
     ]
    }
   ],
   "source": [
    "dolar = 5.44\n",
    "real = float(input(\"Informe a quantidade de dinheiro em real \"))\n",
    "\n",
    "### complete o código\n",
    "resultado = real / dolar\n",
    "print(f\"dividindo {real} com {dolar} obtemos {resultado} dolares \")\n",
    "## exemplo 1 real brasileiro, vale 0.18 centavos de dolar."
   ]
  },
  {
   "cell_type": "markdown",
   "id": "91fec7e1",
   "metadata": {},
   "source": [
    "💵 Exercicio 11 - Conversor de Moeda\n",
    "\n",
    "Converta Dólar para Real (use taxa fixa)."
   ]
  },
  {
   "cell_type": "code",
   "execution_count": 38,
   "id": "13b781b5",
   "metadata": {},
   "outputs": [
    {
     "name": "stdout",
     "output_type": "stream",
     "text": [
      "dividindo 1.0 com 5.44 obtemos 5.44 reais \n"
     ]
    }
   ],
   "source": [
    "dolar = 5.44\n",
    "real = float(input(\"Informe a quantidade de dinheiro em real \"))\n",
    "\n",
    "### complete o código\n",
    "resultado = dolar / real\n",
    "print(f\"dividindo {real} com {dolar} obtemos {resultado} reais \")\n",
    "## exemplo 1 dólar, vale 5.44 reais.\n",
    "\n"
   ]
  }
 ],
 "metadata": {
  "kernelspec": {
   "display_name": "Python 3",
   "language": "python",
   "name": "python3"
  },
  "language_info": {
   "codemirror_mode": {
    "name": "ipython",
    "version": 3
   },
   "file_extension": ".py",
   "mimetype": "text/x-python",
   "name": "python",
   "nbconvert_exporter": "python",
   "pygments_lexer": "ipython3",
   "version": "3.13.2"
  }
 },
 "nbformat": 4,
 "nbformat_minor": 5
}
