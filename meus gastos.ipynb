{
 "cells": [
  {
   "cell_type": "code",
   "execution_count": 6,
   "id": "4bfa2ebc",
   "metadata": {},
   "outputs": [
    {
     "name": "stdout",
     "output_type": "stream",
     "text": [
      "sobrou 11400 reais do seu salario\n"
     ]
    }
   ],
   "source": [
    "meu_salario = 26800\n",
    "streming = 300\n",
    "luz = 200\n",
    "agua = 200\n",
    "comida =2000\n",
    "carro_geral =2000\n",
    "animal_estimaçao = 1500\n",
    "diversos = 4000\n",
    "emergencia = 5000\n",
    "internet = 200\n",
    "\n",
    "gastos = streming + luz + agua + comida + carro_geral + animal_estimaçao + diversos + emergencia + internet\n",
    "sobra = meu_salario - gastos\n",
    "print(f\"sobrou {sobra} reais do seu salario\")\n",
    "\n"
   ]
  }
 ],
 "metadata": {
  "kernelspec": {
   "display_name": "Python 3",
   "language": "python",
   "name": "python3"
  },
  "language_info": {
   "codemirror_mode": {
    "name": "ipython",
    "version": 3
   },
   "file_extension": ".py",
   "mimetype": "text/x-python",
   "name": "python",
   "nbconvert_exporter": "python",
   "pygments_lexer": "ipython3",
   "version": "3.13.2"
  }
 },
 "nbformat": 4,
 "nbformat_minor": 5
}
